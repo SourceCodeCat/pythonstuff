{
 "cells": [
  {
   "cell_type": "markdown",
   "metadata": {},
   "source": [
    "### 7CCSMCMP (Computer Programming)\n",
    "# Coursework 2 \n",
    "# DUE ON KEATs BY SUNDAY 27th November 23:55\n",
    "\n",
    "This is the second programming assigment for this module.  \n",
    "\n",
    "- It is worth 5% of your final grade.  \n",
    "- Do your work for this assignment in the cells of this jupyter notebook.  You should be able to fit the code required for this assignment in this notebook.\n",
    "- This notebook comes with a ```data/``` directory that holds the assignment data for this exercise.\n",
    "- You must do ***your own work***, there is no ***collaborating*** allowed.\n",
    "- Make sure that you properly ```comment``` your code, so that the grader can understand what your program is doing.  ***Uncommented code will result in loss of marks!***"
   ]
  },
  {
   "cell_type": "markdown",
   "metadata": {},
   "source": [
    "## Your Details\n",
    "Edit this Markdown cell with:\n",
    "\n",
    "- *Marco Antonio Salgado Martinez*\n",
    "- *1650528*"
   ]
  },
  {
   "cell_type": "markdown",
   "metadata": {},
   "source": [
    "## Part 1 [55 points in total]\n",
    "\n",
    "In this exercise, you will be exploring flight delay data in the United States as provided by [US Department of Transportation](http://www.transtats.bts.gov/DL_SelectFields.asp?Table_ID=236&DB_Short_Name=On-Time).  \n",
    "\n",
    "In the data/ directory you will find the .csv file for September 2015 (```ontime_flights_sept2015.csv```). \n",
    "\n",
    "Name | Description\n",
    "--- | ---\n",
    "YEAR | 2015\n",
    "MONTH | 9\n",
    "DAY_OF_MONTH | 1-30\n",
    "DAY_OF_WEEK\t| 1 (Monday) - 7 (Sunday)\n",
    "UNIQUE_CARRIER | unique carrier code (see carriers.csv for look-up table)\n",
    "TAIL_NUM | plane tail number\n",
    "FL_NUM | flight number\n",
    "ORIGIN |origin IATA airport code (see airports.csv for look-up table)\n",
    "DEST | destination IATA airport code\n",
    "CRS_DEP_TIME | scheduled departure time (local, hhmm)\n",
    "DEP_TIME | actual departure time (local, hhmm)\n",
    "CRS_ARR_TIME | scheduled arrival time (local, hhmm)\n",
    "ARR_TIME | actual arrival time (local, hhmm)\n",
    "ARR_DELAY | arrival delay, in minutes\n",
    "CANCELLED | was the flight cancelled?\n",
    "CANCELLATION_CODE |reason for cancellation (A = carrier, B = weather, C = NAS, D = security)\n",
    "DIVERTED | 1 = yes, 0 = no\n",
    "CRS_ELAPSED_TIME | in minutes\n",
    "ACTUAL_ELAPSED_TIME\t| in minutes\n",
    "AIR_TIME | in minutes\n",
    "DISTANCE | in miles\n",
    "CARRIER_DELAY | in minutes\n",
    "WEATHER_DELAY | in minutes\n",
    "NAS_DELAY | in minutes\n",
    "SECURITY_DELAY | in minutes\n",
    "LATE_AIRCRAFT_DELAY | in minutes\n",
    "\n",
    "Answer each of the questions below, and include a short explanation for each answer or plot that you generate (use a Markdown cell to write your explanation).\n",
    "\n",
    "To get you started, the dataset is loaded into a Pandas DataFrame, and the columns are listed for you. (*Note*: ignore the last columns \"Unnamed: 26\", this is due to a dangling comma on every line\")"
   ]
  },
  {
   "cell_type": "code",
   "execution_count": 1,
   "metadata": {},
   "outputs": [
    {
     "name": "stdout",
     "output_type": "stream",
     "text": [
      "Index([u'YEAR', u'MONTH', u'DAY_OF_MONTH', u'DAY_OF_WEEK', u'UNIQUE_CARRIER',\n",
      "       u'TAIL_NUM', u'FL_NUM', u'ORIGIN', u'DEST', u'CRS_DEP_TIME',\n",
      "       u'DEP_TIME', u'CRS_ARR_TIME', u'ARR_TIME', u'ARR_DELAY', u'CANCELLED',\n",
      "       u'CANCELLATION_CODE', u'DIVERTED', u'CRS_ELAPSED_TIME',\n",
      "       u'ACTUAL_ELAPSED_TIME', u'AIR_TIME', u'DISTANCE', u'CARRIER_DELAY',\n",
      "       u'WEATHER_DELAY', u'NAS_DELAY', u'SECURITY_DELAY',\n",
      "       u'LATE_AIRCRAFT_DELAY', u'Unnamed: 26'],\n",
      "      dtype='object')\n"
     ]
    }
   ],
   "source": [
    "import matplotlib.pyplot as plt\n",
    "%matplotlib inline\n",
    "import pandas as pd\n",
    "import numpy as np\n",
    "from IPython.display import *\n",
    "from ipywidgets import *\n",
    "from collections import *\n",
    "import csv\n",
    "flights = pd.read_csv(\"data/ontime_flights_sept2015_full.csv\")\n",
    "print flights.columns\n",
    "\n",
    "\n"
   ]
  },
  {
   "cell_type": "markdown",
   "metadata": {},
   "source": [
    "**Question 1.1 [5 points]** How many flights where recorded in the month of September?"
   ]
  },
  {
   "cell_type": "code",
   "execution_count": 2,
   "metadata": {},
   "outputs": [
    {
     "name": "stdout",
     "output_type": "stream",
     "text": [
      "There were 464946 flights in September\n"
     ]
    }
   ],
   "source": [
    "# the whole data frame is build up from flights in september so we only have to \n",
    "# either get the height of the month column or  take the height from the shape of the dataframe \n",
    "# like this: flights.shape\n",
    "print \"There were %d flights in September\" % len(flights['MONTH'])\n",
    "\n"
   ]
  },
  {
   "cell_type": "markdown",
   "metadata": {},
   "source": [
    "**Question 1.2 [10 points]** In which direction do flights between JFK (New York City) and LAX (Los Angelos) take less time, JFK->LAX or LAX->JFK?  (Explain your calculations)\n",
    "\n",
    "**Question 1.3 [5 points]** On average, what is the difference in minutes between the two directions?"
   ]
  },
  {
   "cell_type": "code",
   "execution_count": 3,
   "metadata": {},
   "outputs": [
    {
     "name": "stdout",
     "output_type": "stream",
     "text": [
      " jfk_lax_avrg: 319.14, lax_jfk_avrg: 294.98\n",
      "------------------------------------------------------------\n",
      " in average, flights from  LAX->JFK takes less time \n",
      "------------------------------------------------------------\n",
      " time  difference between the  two directions: 24.16 mins.\n"
     ]
    }
   ],
   "source": [
    "#To evalute the difference in minutes between the two directions, we can use the actual flight time\n",
    "# by using the AIR_TIME variable\n",
    "jfk_lax_avrg = flights.AIR_TIME[(flights.ORIGIN == 'JFK') & (flights.DEST == \"LAX\")].mean()\n",
    "lax_jfk_avrg = flights.AIR_TIME[(flights.ORIGIN == 'LAX') & (flights.DEST == \"JFK\")].mean()\n",
    "\n",
    "print \" jfk_lax_avrg: %.2f, lax_jfk_avrg: %.2f\" % (jfk_lax_avrg,lax_jfk_avrg)\n",
    "print \"-\"*60\n",
    "print \" in average, flights from  %s takes less time \" % (\"JFK->LAX\" if(jfk_lax_avrg < lax_jfk_avrg) else \"LAX->JFK\")\n",
    "print \"-\"*60\n",
    "print \" time  difference between the  two directions: %.2f mins.\" % (abs(jfk_lax_avrg-lax_jfk_avrg))"
   ]
  },
  {
   "cell_type": "markdown",
   "metadata": {},
   "source": [
    "**Question 1.4 [10 points]** \n",
    "\n",
    "Plot the daily total weather delay for September.\n",
    "\n",
    "\n",
    "**Question 1.5 [5 points]** \n",
    "\n",
    "Based on your plot, which day in Sept. had the most weather delay?"
   ]
  },
  {
   "cell_type": "code",
   "execution_count": 4,
   "metadata": {},
   "outputs": [
    {
     "name": "stdout",
     "output_type": "stream",
     "text": [
      "Sept 25, had the most weather delay. \n"
     ]
    },
    {
     "data": {
      "image/png": "[encoded data removed]",
      "text/plain": [
       "<matplotlib.figure.Figure at 0x7fae1a61ba50>"
      ]
     },
     "metadata": {},
     "output_type": "display_data"
    },
    {
     "name": "stdout",
     "output_type": "stream",
     "text": [
      "As can be seen,the day with peak WEATHER_DELAY was on Sept 25th\n"
     ]
    }
   ],
   "source": [
    "\n",
    "# for this we can take two approaches:\n",
    "\n",
    "# Approach 1: we can look for the Max value in the WEATHER_DELAY variable, then look \n",
    "#for the related day of month, like this.\n",
    "print \"Sept %d, had the most weather delay. \" % flights.DAY_OF_MONTH[flights.WEATHER_DELAY == flights.WEATHER_DELAY.max()]\n",
    "\n",
    "#Apporach 2: we can obtain the max WEATHER_DELAY per day and then graph it, so we can eyeball the peak day\n",
    "\n",
    "top_delay_per_day = [flights.WEATHER_DELAY[flights.DAY_OF_MONTH == x].max() for x in np.sort(flights.DAY_OF_MONTH.unique())]\n",
    "plt.bar(np.sort(flights.DAY_OF_MONTH.unique()),top_delay_per_day)\n",
    "plt.show()\n",
    "print \"As can be seen,the day with peak WEATHER_DELAY was on Sept 25th\"\n",
    "\n"
   ]
  },
  {
   "cell_type": "markdown",
   "metadata": {},
   "source": [
    "**Question 1.6 [10 points]** \n",
    "\n",
    "On a bar chart plot the airline carriers (UNIQUE_CARRIER's) by their average arrival delays, ordered from worse delay to the least.  *Ignore flights that arrive early (i.e. their ARR_DELAY is less than 0).*"
   ]
  },
  {
   "cell_type": "code",
   "execution_count": 5,
   "metadata": {},
   "outputs": [
    {
     "data": {
      "text/plain": [
       "<matplotlib.axes._subplots.AxesSubplot at 0x7fae1a61b290>"
      ]
     },
     "execution_count": 5,
     "metadata": {},
     "output_type": "execute_result"
    },
    {
     "data": {
      "image/png": "[encoded data removed]",
      "text/plain": [
       "<matplotlib.figure.Figure at 0x7fae16ff1350>"
      ]
     },
     "metadata": {},
     "output_type": "display_data"
    }
   ],
   "source": [
    "# just to easily visualize the two column we are going to work on\n",
    "carrier_delays = flights[['UNIQUE_CARRIER','ARR_DELAY']]\n",
    "# we group the  rows by UNIQUE_CARRIER, and apply the mean to each group\n",
    "carrier_delays = carrier_delays[(carrier_delays.ARR_DELAY > 0)].groupby(\"UNIQUE_CARRIER\").mean()\n",
    "#To the resulting dataframe we sort it by ARR_DELAY, in descending direction and plot it using plotbar() \n",
    "carrier_delays.sort_values(by='ARR_DELAY', ascending=False).plot.bar()\n",
    "\n"
   ]
  },
  {
   "cell_type": "markdown",
   "metadata": {},
   "source": [
    "**Question 1.7 [10 points]** \n",
    "\n",
    "Create a histogram showing the arrival delays for Chicago (airport code 'ORD').\n",
    "\n",
    "- Include both early and late flights, ARR_DELAY will be positive and negative.\n",
    "- Set the domain for the histogram to show flights that are up to one hour early to flights that are 2 hours late.\n",
    "- Set the bin size for the flights to be 5 mins."
   ]
  },
  {
   "cell_type": "code",
   "execution_count": 6,
   "metadata": {},
   "outputs": [
    {
     "data": {
      "text/plain": [
       "<matplotlib.axes._subplots.AxesSubplot at 0x7fae16fd5d10>"
      ]
     },
     "metadata": {},
     "output_type": "display_data"
    },
    {
     "data": {
      "image/png": "[encoded data removed]",
      "text/plain": [
       "<matplotlib.figure.Figure at 0x7fae4166b5d0>"
      ]
     },
     "metadata": {},
     "output_type": "display_data"
    }
   ],
   "source": [
    "# from the column ARR_DELAY, we obtain only those with ORD destination\n",
    "# on that result we apply the hist() function with the required characteristics\n",
    "# the bin size is calculated by (120-(-60))/5 = 36, giving a bar each 5 minutes\n",
    "display(flights.ARR_DELAY[flights.DEST == \"ORD\"].hist(bins=36,range=[-60,120]))\n",
    "\n"
   ]
  },
  {
   "cell_type": "markdown",
   "metadata": {},
   "source": [
    "## Part 2 [20 points in total]\n",
    "\n",
    "This flight delay data can be used to estimate the arrival delay given a route and a day of the week, and we will leverage this data to create a booking recomender function. In this part the aim is to create a python function that will help when booking a flight by alerting if the selected route and day of the week is one that has had delays in the past.\n",
    "\n",
    "This will use the same dataframe used in Part 1 as a starting point, but will focus on the following columns: ORIGIN, DEST, DAY_OF_WEEK. In order to calculate delays use the ARR_DELAY column.\n",
    "\n",
    "Step 1: Calculate for each combination of origin airport code (ORIGIN), destination airport code (DEST) and day of the week (DAY_OF_WEEK) the median value of ARR_DELAY.\n",
    "\n",
    "Step 2: Use the results calculated to write a python function. This function should accept three arguments: origin, destination and dayofweek. The function should use these to evaluate whether the median arr_delay for the selected combination of the arguments is greater than 0. \n",
    "- If this is the case then it should return a recomandation not to fly. \n",
    "- If the median arr_delay for the selected combination is less than or equal to 0 then the recomandation returned should be to go ahead and book the flight."
   ]
  },
  {
   "cell_type": "markdown",
   "metadata": {},
   "source": [
    "Step 1: Calculate for Calculate for each combination of origin airport code (ORIGIN), destination airport code (DEST) and day of the week (DAY_OF_WEEK) the median value of ARR_DELAY."
   ]
  },
  {
   "cell_type": "code",
   "execution_count": 7,
   "metadata": {},
   "outputs": [
    {
     "name": "stdout",
     "output_type": "stream",
     "text": [
      "based on the calculated results,for a flight with\n",
      "ORIGIN = 'SFO', DEST='JFK' and DAY_OF_WEEK= 4, the median ARR_DELAY is -6.0\n",
      "\n",
      "\n",
      "Bellow is the whole meadian ARR_DELAY dataframe:\n"
     ]
    },
    {
     "data": {
      "text/html": [
       "<div>\n",
       "<table border=\"1\" class=\"dataframe\">\n",
       "  <thead>\n",
       "    <tr style=\"text-align: right;\">\n",
       "      <th></th>\n",
       "      <th>ORIGIN</th>\n",
       "      <th>DEST</th>\n",
       "      <th>DAY_OF_WEEK</th>\n",
       "      <th>ARR_DELAY</th>\n",
       "    </tr>\n",
       "  </thead>\n",
       "  <tbody>\n",
       "    <tr>\n",
       "      <th>0</th>\n",
       "      <td>ABE</td>\n",
       "      <td>ATL</td>\n",
       "      <td>1</td>\n",
       "      <td>-7.0</td>\n",
       "    </tr>\n",
       "    <tr>\n",
       "      <th>1</th>\n",
       "      <td>ABE</td>\n",
       "      <td>ATL</td>\n",
       "      <td>2</td>\n",
       "      <td>-3.0</td>\n",
       "    </tr>\n",
       "    <tr>\n",
       "      <th>2</th>\n",
       "      <td>ABE</td>\n",
       "      <td>ATL</td>\n",
       "      <td>3</td>\n",
       "      <td>-9.0</td>\n",
       "    </tr>\n",
       "    <tr>\n",
       "      <th>3</th>\n",
       "      <td>ABE</td>\n",
       "      <td>ATL</td>\n",
       "      <td>4</td>\n",
       "      <td>-12.5</td>\n",
       "    </tr>\n",
       "    <tr>\n",
       "      <th>4</th>\n",
       "      <td>ABE</td>\n",
       "      <td>ATL</td>\n",
       "      <td>5</td>\n",
       "      <td>-10.0</td>\n",
       "    </tr>\n",
       "    <tr>\n",
       "      <th>5</th>\n",
       "      <td>ABE</td>\n",
       "      <td>ATL</td>\n",
       "      <td>6</td>\n",
       "      <td>-11.0</td>\n",
       "    </tr>\n",
       "    <tr>\n",
       "      <th>6</th>\n",
       "      <td>ABE</td>\n",
       "      <td>ATL</td>\n",
       "      <td>7</td>\n",
       "      <td>-13.0</td>\n",
       "    </tr>\n",
       "    <tr>\n",
       "      <th>7</th>\n",
       "      <td>ABE</td>\n",
       "      <td>DTW</td>\n",
       "      <td>1</td>\n",
       "      <td>-7.0</td>\n",
       "    </tr>\n",
       "    <tr>\n",
       "      <th>8</th>\n",
       "      <td>ABE</td>\n",
       "      <td>DTW</td>\n",
       "      <td>2</td>\n",
       "      <td>-11.5</td>\n",
       "    </tr>\n",
       "    <tr>\n",
       "      <th>9</th>\n",
       "      <td>ABE</td>\n",
       "      <td>DTW</td>\n",
       "      <td>3</td>\n",
       "      <td>-10.0</td>\n",
       "    </tr>\n",
       "    <tr>\n",
       "      <th>10</th>\n",
       "      <td>ABE</td>\n",
       "      <td>DTW</td>\n",
       "      <td>4</td>\n",
       "      <td>-12.0</td>\n",
       "    </tr>\n",
       "    <tr>\n",
       "      <th>11</th>\n",
       "      <td>ABE</td>\n",
       "      <td>DTW</td>\n",
       "      <td>5</td>\n",
       "      <td>-7.0</td>\n",
       "    </tr>\n",
       "    <tr>\n",
       "      <th>12</th>\n",
       "      <td>ABE</td>\n",
       "      <td>DTW</td>\n",
       "      <td>6</td>\n",
       "      <td>-13.0</td>\n",
       "    </tr>\n",
       "    <tr>\n",
       "      <th>13</th>\n",
       "      <td>ABE</td>\n",
       "      <td>DTW</td>\n",
       "      <td>7</td>\n",
       "      <td>-11.0</td>\n",
       "    </tr>\n",
       "    <tr>\n",
       "      <th>14</th>\n",
       "      <td>ABE</td>\n",
       "      <td>ORD</td>\n",
       "      <td>1</td>\n",
       "      <td>-9.0</td>\n",
       "    </tr>\n",
       "    <tr>\n",
       "      <th>15</th>\n",
       "      <td>ABE</td>\n",
       "      <td>ORD</td>\n",
       "      <td>2</td>\n",
       "      <td>-7.0</td>\n",
       "    </tr>\n",
       "    <tr>\n",
       "      <th>16</th>\n",
       "      <td>ABE</td>\n",
       "      <td>ORD</td>\n",
       "      <td>3</td>\n",
       "      <td>-19.0</td>\n",
       "    </tr>\n",
       "    <tr>\n",
       "      <th>17</th>\n",
       "      <td>ABE</td>\n",
       "      <td>ORD</td>\n",
       "      <td>4</td>\n",
       "      <td>-7.0</td>\n",
       "    </tr>\n",
       "    <tr>\n",
       "      <th>18</th>\n",
       "      <td>ABE</td>\n",
       "      <td>ORD</td>\n",
       "      <td>5</td>\n",
       "      <td>-4.0</td>\n",
       "    </tr>\n",
       "    <tr>\n",
       "      <th>19</th>\n",
       "      <td>ABE</td>\n",
       "      <td>ORD</td>\n",
       "      <td>6</td>\n",
       "      <td>-11.5</td>\n",
       "    </tr>\n",
       "    <tr>\n",
       "      <th>20</th>\n",
       "      <td>ABE</td>\n",
       "      <td>ORD</td>\n",
       "      <td>7</td>\n",
       "      <td>-3.5</td>\n",
       "    </tr>\n",
       "    <tr>\n",
       "      <th>21</th>\n",
       "      <td>ABI</td>\n",
       "      <td>DFW</td>\n",
       "      <td>1</td>\n",
       "      <td>-12.0</td>\n",
       "    </tr>\n",
       "    <tr>\n",
       "      <th>22</th>\n",
       "      <td>ABI</td>\n",
       "      <td>DFW</td>\n",
       "      <td>2</td>\n",
       "      <td>-16.0</td>\n",
       "    </tr>\n",
       "    <tr>\n",
       "      <th>23</th>\n",
       "      <td>ABI</td>\n",
       "      <td>DFW</td>\n",
       "      <td>3</td>\n",
       "      <td>-10.0</td>\n",
       "    </tr>\n",
       "    <tr>\n",
       "      <th>24</th>\n",
       "      <td>ABI</td>\n",
       "      <td>DFW</td>\n",
       "      <td>4</td>\n",
       "      <td>-14.5</td>\n",
       "    </tr>\n",
       "    <tr>\n",
       "      <th>25</th>\n",
       "      <td>ABI</td>\n",
       "      <td>DFW</td>\n",
       "      <td>5</td>\n",
       "      <td>-16.5</td>\n",
       "    </tr>\n",
       "    <tr>\n",
       "      <th>26</th>\n",
       "      <td>ABI</td>\n",
       "      <td>DFW</td>\n",
       "      <td>6</td>\n",
       "      <td>-18.0</td>\n",
       "    </tr>\n",
       "    <tr>\n",
       "      <th>27</th>\n",
       "      <td>ABI</td>\n",
       "      <td>DFW</td>\n",
       "      <td>7</td>\n",
       "      <td>-14.0</td>\n",
       "    </tr>\n",
       "    <tr>\n",
       "      <th>28</th>\n",
       "      <td>ABQ</td>\n",
       "      <td>ATL</td>\n",
       "      <td>1</td>\n",
       "      <td>-13.0</td>\n",
       "    </tr>\n",
       "    <tr>\n",
       "      <th>29</th>\n",
       "      <td>ABQ</td>\n",
       "      <td>ATL</td>\n",
       "      <td>2</td>\n",
       "      <td>-12.0</td>\n",
       "    </tr>\n",
       "    <tr>\n",
       "      <th>...</th>\n",
       "      <td>...</td>\n",
       "      <td>...</td>\n",
       "      <td>...</td>\n",
       "      <td>...</td>\n",
       "    </tr>\n",
       "    <tr>\n",
       "      <th>26868</th>\n",
       "      <td>XNA</td>\n",
       "      <td>MSP</td>\n",
       "      <td>5</td>\n",
       "      <td>-5.0</td>\n",
       "    </tr>\n",
       "    <tr>\n",
       "      <th>26869</th>\n",
       "      <td>XNA</td>\n",
       "      <td>MSP</td>\n",
       "      <td>7</td>\n",
       "      <td>-0.5</td>\n",
       "    </tr>\n",
       "    <tr>\n",
       "      <th>26870</th>\n",
       "      <td>XNA</td>\n",
       "      <td>ORD</td>\n",
       "      <td>1</td>\n",
       "      <td>-11.0</td>\n",
       "    </tr>\n",
       "    <tr>\n",
       "      <th>26871</th>\n",
       "      <td>XNA</td>\n",
       "      <td>ORD</td>\n",
       "      <td>2</td>\n",
       "      <td>-6.5</td>\n",
       "    </tr>\n",
       "    <tr>\n",
       "      <th>26872</th>\n",
       "      <td>XNA</td>\n",
       "      <td>ORD</td>\n",
       "      <td>3</td>\n",
       "      <td>-8.0</td>\n",
       "    </tr>\n",
       "    <tr>\n",
       "      <th>26873</th>\n",
       "      <td>XNA</td>\n",
       "      <td>ORD</td>\n",
       "      <td>4</td>\n",
       "      <td>-2.0</td>\n",
       "    </tr>\n",
       "    <tr>\n",
       "      <th>26874</th>\n",
       "      <td>XNA</td>\n",
       "      <td>ORD</td>\n",
       "      <td>5</td>\n",
       "      <td>4.0</td>\n",
       "    </tr>\n",
       "    <tr>\n",
       "      <th>26875</th>\n",
       "      <td>XNA</td>\n",
       "      <td>ORD</td>\n",
       "      <td>6</td>\n",
       "      <td>-10.0</td>\n",
       "    </tr>\n",
       "    <tr>\n",
       "      <th>26876</th>\n",
       "      <td>XNA</td>\n",
       "      <td>ORD</td>\n",
       "      <td>7</td>\n",
       "      <td>-10.0</td>\n",
       "    </tr>\n",
       "    <tr>\n",
       "      <th>26877</th>\n",
       "      <td>YAK</td>\n",
       "      <td>CDV</td>\n",
       "      <td>1</td>\n",
       "      <td>1.5</td>\n",
       "    </tr>\n",
       "    <tr>\n",
       "      <th>26878</th>\n",
       "      <td>YAK</td>\n",
       "      <td>CDV</td>\n",
       "      <td>2</td>\n",
       "      <td>-7.0</td>\n",
       "    </tr>\n",
       "    <tr>\n",
       "      <th>26879</th>\n",
       "      <td>YAK</td>\n",
       "      <td>CDV</td>\n",
       "      <td>3</td>\n",
       "      <td>4.0</td>\n",
       "    </tr>\n",
       "    <tr>\n",
       "      <th>26880</th>\n",
       "      <td>YAK</td>\n",
       "      <td>CDV</td>\n",
       "      <td>4</td>\n",
       "      <td>-3.0</td>\n",
       "    </tr>\n",
       "    <tr>\n",
       "      <th>26881</th>\n",
       "      <td>YAK</td>\n",
       "      <td>CDV</td>\n",
       "      <td>5</td>\n",
       "      <td>-0.5</td>\n",
       "    </tr>\n",
       "    <tr>\n",
       "      <th>26882</th>\n",
       "      <td>YAK</td>\n",
       "      <td>CDV</td>\n",
       "      <td>6</td>\n",
       "      <td>0.0</td>\n",
       "    </tr>\n",
       "    <tr>\n",
       "      <th>26883</th>\n",
       "      <td>YAK</td>\n",
       "      <td>CDV</td>\n",
       "      <td>7</td>\n",
       "      <td>-11.0</td>\n",
       "    </tr>\n",
       "    <tr>\n",
       "      <th>26884</th>\n",
       "      <td>YAK</td>\n",
       "      <td>JNU</td>\n",
       "      <td>1</td>\n",
       "      <td>-7.0</td>\n",
       "    </tr>\n",
       "    <tr>\n",
       "      <th>26885</th>\n",
       "      <td>YAK</td>\n",
       "      <td>JNU</td>\n",
       "      <td>2</td>\n",
       "      <td>13.0</td>\n",
       "    </tr>\n",
       "    <tr>\n",
       "      <th>26886</th>\n",
       "      <td>YAK</td>\n",
       "      <td>JNU</td>\n",
       "      <td>3</td>\n",
       "      <td>-5.0</td>\n",
       "    </tr>\n",
       "    <tr>\n",
       "      <th>26887</th>\n",
       "      <td>YAK</td>\n",
       "      <td>JNU</td>\n",
       "      <td>4</td>\n",
       "      <td>-1.5</td>\n",
       "    </tr>\n",
       "    <tr>\n",
       "      <th>26888</th>\n",
       "      <td>YAK</td>\n",
       "      <td>JNU</td>\n",
       "      <td>5</td>\n",
       "      <td>-2.5</td>\n",
       "    </tr>\n",
       "    <tr>\n",
       "      <th>26889</th>\n",
       "      <td>YAK</td>\n",
       "      <td>JNU</td>\n",
       "      <td>6</td>\n",
       "      <td>10.5</td>\n",
       "    </tr>\n",
       "    <tr>\n",
       "      <th>26890</th>\n",
       "      <td>YAK</td>\n",
       "      <td>JNU</td>\n",
       "      <td>7</td>\n",
       "      <td>3.5</td>\n",
       "    </tr>\n",
       "    <tr>\n",
       "      <th>26891</th>\n",
       "      <td>YUM</td>\n",
       "      <td>PHX</td>\n",
       "      <td>1</td>\n",
       "      <td>-7.0</td>\n",
       "    </tr>\n",
       "    <tr>\n",
       "      <th>26892</th>\n",
       "      <td>YUM</td>\n",
       "      <td>PHX</td>\n",
       "      <td>2</td>\n",
       "      <td>-3.0</td>\n",
       "    </tr>\n",
       "    <tr>\n",
       "      <th>26893</th>\n",
       "      <td>YUM</td>\n",
       "      <td>PHX</td>\n",
       "      <td>3</td>\n",
       "      <td>-5.0</td>\n",
       "    </tr>\n",
       "    <tr>\n",
       "      <th>26894</th>\n",
       "      <td>YUM</td>\n",
       "      <td>PHX</td>\n",
       "      <td>4</td>\n",
       "      <td>-3.0</td>\n",
       "    </tr>\n",
       "    <tr>\n",
       "      <th>26895</th>\n",
       "      <td>YUM</td>\n",
       "      <td>PHX</td>\n",
       "      <td>5</td>\n",
       "      <td>-6.5</td>\n",
       "    </tr>\n",
       "    <tr>\n",
       "      <th>26896</th>\n",
       "      <td>YUM</td>\n",
       "      <td>PHX</td>\n",
       "      <td>6</td>\n",
       "      <td>-10.5</td>\n",
       "    </tr>\n",
       "    <tr>\n",
       "      <th>26897</th>\n",
       "      <td>YUM</td>\n",
       "      <td>PHX</td>\n",
       "      <td>7</td>\n",
       "      <td>-6.0</td>\n",
       "    </tr>\n",
       "  </tbody>\n",
       "</table>\n",
       "<p>26898 rows × 4 columns</p>\n",
       "</div>"
      ],
      "text/plain": [
       "      ORIGIN DEST  DAY_OF_WEEK  ARR_DELAY\n",
       "0        ABE  ATL            1       -7.0\n",
       "1        ABE  ATL            2       -3.0\n",
       "2        ABE  ATL            3       -9.0\n",
       "3        ABE  ATL            4      -12.5\n",
       "4        ABE  ATL            5      -10.0\n",
       "5        ABE  ATL            6      -11.0\n",
       "6        ABE  ATL            7      -13.0\n",
       "7        ABE  DTW            1       -7.0\n",
       "8        ABE  DTW            2      -11.5\n",
       "9        ABE  DTW            3      -10.0\n",
       "10       ABE  DTW            4      -12.0\n",
       "11       ABE  DTW            5       -7.0\n",
       "12       ABE  DTW            6      -13.0\n",
       "13       ABE  DTW            7      -11.0\n",
       "14       ABE  ORD            1       -9.0\n",
       "15       ABE  ORD            2       -7.0\n",
       "16       ABE  ORD            3      -19.0\n",
       "17       ABE  ORD            4       -7.0\n",
       "18       ABE  ORD            5       -4.0\n",
       "19       ABE  ORD            6      -11.5\n",
       "20       ABE  ORD            7       -3.5\n",
       "21       ABI  DFW            1      -12.0\n",
       "22       ABI  DFW            2      -16.0\n",
       "23       ABI  DFW            3      -10.0\n",
       "24       ABI  DFW            4      -14.5\n",
       "25       ABI  DFW            5      -16.5\n",
       "26       ABI  DFW            6      -18.0\n",
       "27       ABI  DFW            7      -14.0\n",
       "28       ABQ  ATL            1      -13.0\n",
       "29       ABQ  ATL            2      -12.0\n",
       "...      ...  ...          ...        ...\n",
       "26868    XNA  MSP            5       -5.0\n",
       "26869    XNA  MSP            7       -0.5\n",
       "26870    XNA  ORD            1      -11.0\n",
       "26871    XNA  ORD            2       -6.5\n",
       "26872    XNA  ORD            3       -8.0\n",
       "26873    XNA  ORD            4       -2.0\n",
       "26874    XNA  ORD            5        4.0\n",
       "26875    XNA  ORD            6      -10.0\n",
       "26876    XNA  ORD            7      -10.0\n",
       "26877    YAK  CDV            1        1.5\n",
       "26878    YAK  CDV            2       -7.0\n",
       "26879    YAK  CDV            3        4.0\n",
       "26880    YAK  CDV            4       -3.0\n",
       "26881    YAK  CDV            5       -0.5\n",
       "26882    YAK  CDV            6        0.0\n",
       "26883    YAK  CDV            7      -11.0\n",
       "26884    YAK  JNU            1       -7.0\n",
       "26885    YAK  JNU            2       13.0\n",
       "26886    YAK  JNU            3       -5.0\n",
       "26887    YAK  JNU            4       -1.5\n",
       "26888    YAK  JNU            5       -2.5\n",
       "26889    YAK  JNU            6       10.5\n",
       "26890    YAK  JNU            7        3.5\n",
       "26891    YUM  PHX            1       -7.0\n",
       "26892    YUM  PHX            2       -3.0\n",
       "26893    YUM  PHX            3       -5.0\n",
       "26894    YUM  PHX            4       -3.0\n",
       "26895    YUM  PHX            5       -6.5\n",
       "26896    YUM  PHX            6      -10.5\n",
       "26897    YUM  PHX            7       -6.0\n",
       "\n",
       "[26898 rows x 4 columns]"
      ]
     },
     "metadata": {},
     "output_type": "display_data"
    }
   ],
   "source": [
    "#origin var\n",
    "ORGN = \"SFO\"\n",
    "#destination var\n",
    "DSTNTN=\"JFK\"\n",
    "#day of week var\n",
    "DOW = 4\n",
    "#calculate a new dataframe containing the ARR_DELAY median from the grouped flights by ORIGIN,DEST,DAY_OF_WEEK\n",
    "flights_grouped = pd.DataFrame({'ARR_DELAY' : flights.groupby([\"ORIGIN\",\"DEST\",\"DAY_OF_WEEK\"])[\"ARR_DELAY\"].median()}).reset_index()\n",
    "# to test I will retrieve the median ARR_DELAY where the ORIGIN = SFO,DEST=JFK and DAY_OF_WEEK= 4 \n",
    "median = flights_grouped.ARR_DELAY[(flights_grouped.ORIGIN == ORGN) & (flights_grouped.DEST == DSTNTN) & (flights_grouped.DAY_OF_WEEK == DOW)].item()\n",
    "print (\"based on the calculated results,for a flight with\\nORIGIN = 'SFO', DEST='JFK' and DAY_OF_WEEK= 4, the median ARR_DELAY is %s\" % median)\n",
    "# printing the ARR_DELAY median dataframe\n",
    "print \"\\n\\nBellow is the whole meadian ARR_DELAY dataframe:\"\n",
    "display(flights_grouped)\n",
    "\n"
   ]
  },
  {
   "cell_type": "markdown",
   "metadata": {},
   "source": [
    "Step 2:\n",
    "Use the results calculated in Step 1 to write a python function. This function should accept three arguments: origin, destination and dayofweek. The function should use these to evaluate whether the median arr_delay for the selected combination of the arguments is greater than 0. \n",
    "    \n",
    "    \n",
    "If this is the case then it should return a recomandation not to fly. \n",
    "If the median arr_delay for the selected combination is less than or equal to 0 then the recomandation returned should be to go ahead and book the flight.\n",
    "\n",
    "Write your function in the space below."
   ]
  },
  {
   "cell_type": "code",
   "execution_count": 8,
   "metadata": {
    "collapsed": true
   },
   "outputs": [],
   "source": [
    "def shouldFly(ORGN,DSTNTN,DOW):\n",
    "    if DOW >0 & DOW <8:\n",
    "        if ORGN != DSTNTN:\n",
    "            # I could have done it on the fly with the original flights dataframe, like this:\n",
    "            #result = flights.ARR_DELAY[(flights.ORIGIN == ORGN) & (flights.DEST == DSTNTN) & (flights.DAY_OF_WEEK == DOW)].median()\n",
    "            #but seems Chipp want us to use the grouped dataframe from step 1 so we use that one instead             \n",
    "            result = flights_grouped.ARR_DELAY[(flights_grouped.ORIGIN == ORGN) & (flights_grouped.DEST == DSTNTN) & (flights_grouped.DAY_OF_WEEK == DOW)].item()\n",
    "            if result >0:\n",
    "                return \"do not to fly!..\"\n",
    "            else:\n",
    "                return \"go ahead and book the flight!\"\n",
    "        else:\n",
    "            return \"ORIGIN and DESTINATION should be different\"\n",
    "    else:\n",
    "        return \"Day of Week should be between 1 and 7 (inclusive)\""
   ]
  },
  {
   "cell_type": "markdown",
   "metadata": {},
   "source": [
    "To fly or not to fly... from San Francisco to New York on a Thursday?\n",
    "\n",
    "Call the function you have defined in Step 2 with an origin airport code of SFO and destination of JFK and a day of the week equal to Thursday."
   ]
  },
  {
   "cell_type": "code",
   "execution_count": 9,
   "metadata": {},
   "outputs": [
    {
     "data": {
      "text/plain": [
       "'go ahead and book the flight!'"
      ]
     },
     "execution_count": 9,
     "metadata": {},
     "output_type": "execute_result"
    }
   ],
   "source": [
    "shouldFly(\"SFO\",\"JFK\",4)"
   ]
  },
  {
   "cell_type": "markdown",
   "metadata": {},
   "source": [
    "## Part 3 [25 points in total]\n",
    "\n",
    "\n",
    "Create an interactive ipythonwidget that allows the user make a selection of flights based on the following criteria:\n",
    "- select flights arriving at particular airport\n",
    "- select flights being conducted by a particular carrier\n",
    "- select flights being conducted by a particular carrier and arriving at a particular airport\n",
    "- select all flights (no airport and no carrier are selected).\n",
    "\n",
    "Use the [interact()](https://github.com/ipython/ipywidgets/blob/master/examples/notebooks/Using%20Interact.ipynb) function, as you have done before in order to provide a set of options of carrier and airport codes for the user to make a selections.  To get a set of airport codes and carrier codes, you may do one of the following:\n",
    "* manually select at least 10 airport codes and carrier codes from the data set\n",
    "* get the set of airport codes and carrier codes from the flight data (create a ```set()``` from the appropriate columns in the ```flights``` Pandas DataFrame).\n",
    "* csv files containing the carrier and airport codes are provided in the data/ directory\n",
    "\n",
    "Using that selection of flights, plot two histograms side-by-side:\n",
    "- The histogram on the left shows the arrival delays for flights scheduled to arrive in the morning, 4:00am (0400 hours) to 12pm (1200 hours)\n",
    "- The histogram on the right shows the arrival delays for flights scheduled to arrive in the afternoon and evening, 12pm (1200 hours) to 4:00am (2359 hours, 0000 hours to 0400 hours)\n",
    "(*Hint*: use [pd.concat](http://pandas.pydata.org/pandas-docs/stable/merging.html) to concatenate pandas dataframe for different arrival time selections).\n",
    "\n",
    "Use the same parameters for the histogram as in the previous questions, that is:\n",
    "- show flights that arrive up to one hour early to flights that arrive up to 2 hours late\n",
    "- bin size of 5 minutes\n",
    "- also set the y-axis to show the same y-limits so that you can compare both histograms to each other"
   ]
  },
  {
   "cell_type": "code",
   "execution_count": 11,
   "metadata": {
    "scrolled": true
   },
   "outputs": [
    {
     "name": "stdout",
     "output_type": "stream",
     "text": [
      "selected Carrier:0 | Selected Airport:0\n",
      "select all flights\n"
     ]
    },
    {
     "data": {
      "text/plain": [
       "<function __main__.search>"
      ]
     },
     "execution_count": 11,
     "metadata": {},
     "output_type": "execute_result"
    },
    {
     "data": {
      "image/png": "[encoded data removed]",
      "text/plain": [
       "<matplotlib.figure.Figure at 0x7fae1706b0d0>"
      ]
     },
     "metadata": {},
     "output_type": "display_data"
    }
   ],
   "source": [
    "'''\n",
    "#------------------------------------------------------------\n",
    "To Filter by:\n",
    "Airport Only: choose any airport, and select --NONE-- in the carrier dropdown\n",
    "Carrier only: choose --NONE-- in the airport, and any Carrier\n",
    "Airport+ Carrier: select any airport and carrier\n",
    "Return all flights: select --NONE-- in both  airport and carrier.\n",
    "#------------------------------------------------------------\n",
    "''' \n",
    "\n",
    "\n",
    "\n",
    "#Read the carriers.csv file into a dataframe\n",
    "carriers = pd.read_csv(\"data/carriers.csv\")\n",
    "# index the dataframe, leaving only those carriers that are in the  flights dataframe, \n",
    "# so we have their code and description\n",
    "carriers = carriers[carriers.Code.isin(list(flights.UNIQUE_CARRIER.unique()))]\n",
    "# add a \"NONE\" option, so we can avoid filtering by  carrier\n",
    "carriers.loc[0] = [\"0\",\"--NONE--\"]\n",
    "# set the indexing column of the dataframe to be the description and convert it to a dictionary\n",
    "# using the description as index we can have it as key of the dictionary, that way in the \n",
    "#dropdown it will appear as the text in the dropdown and the code will be the value sent to the\n",
    "#interact function\n",
    "carriers = carriers.set_index(\"Description\")[\"Code\"].to_dict()\n",
    "# order the elements so it is easier to locate an specific one\n",
    "carriers = OrderedDict(sorted(carriers.items()))\n",
    "\n",
    "#the same for airports\n",
    "airports = pd.read_csv(\"data/airports.csv\")\n",
    "airports = airports[airports.Code.isin(list(flights.DEST.unique()))]\n",
    "airports.loc[0] = [\"0\",\"--NONE--\"]\n",
    "airports = airports.set_index(\"Description\")[\"Code\"].to_dict()\n",
    "airports = OrderedDict(sorted(airports.items()))\n",
    "\n",
    "\n",
    "def generateTablePlot(df):\n",
    "    \n",
    "       \n",
    "    fig, axs = plt.subplots(1,2,sharey=True)\n",
    "    # first graph\n",
    "    df.ARR_DELAY[(df.CRS_ARR_TIME >= 400) & (df.CRS_ARR_TIME < 1200)].hist(bins=36,range=[-60,120],ax=axs[0])\n",
    "\n",
    "    # second graph \n",
    "    df_1 = df.ARR_DELAY[(df.CRS_ARR_TIME >= 1200) & (df.CRS_ARR_TIME < 2400)]\n",
    "    df_2 = df.ARR_DELAY[(df.CRS_ARR_TIME >= 0) & (df.CRS_ARR_TIME < 400)]\n",
    "    frames = [df_1,df_2]\n",
    "    result = pd.concat(frames)\n",
    "    result.hist(bins=36,range=[-60,120],ax=axs[1])\n",
    "    \n",
    "    #added labels and settings to the plot\n",
    "    axs[0].set_xlabel('Morning 4:00am -> 11:59am')\n",
    "    axs[0].set_ylabel('Delay Frequency')\n",
    "    axs[1].set_xlabel('Afternoon 12:00pm -> 4:00am')\n",
    "    axs[1].set_ylabel('Delay Frequency')\n",
    "    fig.subplots_adjust(wspace=.20)\n",
    "    #fig.tight_layout()\n",
    "    fig.set_figwidth(15)\n",
    "\n",
    "\n",
    "\n",
    "def search(Carrier,Airport):\n",
    "    print \"selected Carrier:%s | Selected Airport:%s\" % (Carrier,Airport)\n",
    "    if((Carrier == \"0\") & (Airport == \"0\")):\n",
    "        print \"select all flights\"\n",
    "        generateTablePlot(flights)\n",
    "    elif((Carrier != \"0\") & (Airport == \"0\")):\n",
    "        print \"select data based on Carrier\"\n",
    "        generateTablePlot(flights[(flights.UNIQUE_CARRIER == Carrier)])\n",
    "    elif((Carrier == \"0\") & (Airport != \"0\")):\n",
    "        print \"select data based on Airport\"\n",
    "        generateTablePlot(flights[(flights.DEST == Airport)])\n",
    "    elif((Carrier != \"0\") & (Airport != \"0\")):\n",
    "        print \"select data based on Airport + Carrier\"\n",
    "        generateTablePlot(flights[(flights.DEST == Airport)  & (flights.UNIQUE_CARRIER == Carrier)])\n",
    "\n",
    "'''\n",
    "#------------------------------------------------------------\n",
    "To Filter by:\n",
    "Airport Only: choose any airport, and select --NONE-- in the carrier dropdown\n",
    "Carrier only: choose --NONE-- in the airport, and any Carrier\n",
    "Airport+ Carrier: select any airport and carrier\n",
    "Return all flights: select --NONE-- in both  airport and carrier.\n",
    "#------------------------------------------------------------\n",
    "'''   \n",
    "\n",
    "interact(search,Carrier=widgets.Dropdown(\n",
    "    options=carriers,\n",
    "    value='0',\n",
    "    description='Carrier:',\n",
    "    disabled=False,\n",
    "    button_style=''\n",
    "),\n",
    "         Airport=widgets.Dropdown(\n",
    "    options=OrderedDict(sorted(airports.items())),\n",
    "    value='0',\n",
    "    description='Airport:',\n",
    "    disabled=False,\n",
    "    button_style=''\n",
    "))"
   ]
  },
  {
   "cell_type": "markdown",
   "metadata": {},
   "source": [
    "# THIS ASSIGNMENT IS DUE ON KEATs BY\n",
    "# SUNDAY 27th NOVEMBER 23:55\n",
    "\n",
    "### Turn in the following\n",
    "\n",
    "* Submit your completed Jupyter Notebook ***ONLY*** in the Coursework 2 Submission under **Coursework 2** on KEATs.  There is no need to re-upload the flight data.\n",
    "* You should not require adding any additional data for this assignment, the grader will use the same data/ that is provided to you to test your code.\n",
    "\n",
    "\n",
    "### Point Breakdown (Worth 5% of your course grade)\n",
    "\n",
    "Question | Points\n",
    "--- | ---\n",
    "Part 1 Question 1.1 |   5 points\n",
    "Part 1 Question 1.2 |  10 points\n",
    "Part 1 Question 1.3 | 5 points\n",
    "Part 1 Question 1.4 |  10 points\n",
    "Part 1 Question 1.5 | 10 points\n",
    "Part 1 Question 1.6 |  5 points\n",
    "Part 1 Question 1.7 | 10 points\n",
    "Part 2 | 20 points\n",
    "Part 3 | 25 points\n",
    "**Total Number of Points** | 100 points\n",
    "\n",
    "\n"
   ]
  },
  {
   "cell_type": "code",
   "execution_count": null,
   "metadata": {
    "collapsed": true
   },
   "outputs": [],
   "source": []
  },
  {
   "cell_type": "code",
   "execution_count": null,
   "metadata": {
    "collapsed": true
   },
   "outputs": [],
   "source": []
  }
 ],
 "metadata": {
  "anaconda-cloud": {},
  "kernelspec": {
   "display_name": "Python 3",
   "language": "python",
   "name": "python3"
  },
  "language_info": {
   "codemirror_mode": {
    "name": "ipython",
    "version": 3
   },
   "file_extension": ".py",
   "mimetype": "text/x-python",
   "name": "python",
   "nbconvert_exporter": "python",
   "pygments_lexer": "ipython3",
   "version": "3.6.7"
  },
  "toc": {
   "base_numbering": 1,
   "nav_menu": {},
   "number_sections": true,
   "sideBar": true,
   "skip_h1_title": false,
   "title_cell": "Table of Contents",
   "title_sidebar": "Contents",
   "toc_cell": false,
   "toc_position": {},
   "toc_section_display": true,
   "toc_window_display": false
  },
  "widgets": {
   "state": {
    "0bbca93acc4a4bf79b1fdda9605b53b2": {
     "views": [
      {
       "cell_index": 22
      }
     ]
    },
    "0d420b857ebe47f2858ad816d404902a": {
     "views": [
      {
       "cell_index": 22
      }
     ]
    },
    "128cdb1aa747447ca37f3b52b309ab68": {
     "views": [
      {
       "cell_index": 22
      }
     ]
    },
    "15a19c2d34104040ad31e8af501dac2a": {
     "views": [
      {
       "cell_index": 22
      }
     ]
    },
    "16b75f403a4141a794bfeecae097a1ac": {
     "views": [
      {
       "cell_index": 22
      }
     ]
    },
    "2508cef6ccfb40dfa9a73882b8d1dc25": {
     "views": [
      {
       "cell_index": 22
      }
     ]
    },
    "27e032758ec94091a8c4a27fc1960f7a": {
     "views": [
      {
       "cell_index": 22
      }
     ]
    },
    "2cd60c087c2640418e7c16d14cef2473": {
     "views": [
      {
       "cell_index": 22
      }
     ]
    },
    "2dda498b55d04cacb98742a7c6aa1fad": {
     "views": [
      {
       "cell_index": 22
      }
     ]
    },
    "356246a36e7b4aa5a4aa3907fa069940": {
     "views": [
      {
       "cell_index": 22
      }
     ]
    },
    "47c81ec32bcb4f458337045c46f26131": {
     "views": [
      {
       "cell_index": 22
      }
     ]
    },
    "47d407e5f87a400ab2fa6cb355ab346d": {
     "views": [
      {
       "cell_index": 22
      }
     ]
    },
    "5bfbdb5280f5498199ace994adb2e1d9": {
     "views": [
      {
       "cell_index": 22
      }
     ]
    },
    "5d0e51ec53b24ed6bf069ceeb4785c2c": {
     "views": [
      {
       "cell_index": 22
      }
     ]
    },
    "5f85f4c6999049618d7d14a5dc3f11da": {
     "views": [
      {
       "cell_index": 22
      }
     ]
    },
    "6cbddcca7c264e309d27035e624e2e76": {
     "views": [
      {
       "cell_index": 22
      }
     ]
    },
    "701ee15101824f21b10f65a32cc8624c": {
     "views": [
      {
       "cell_index": 22
      }
     ]
    },
    "71c2c4b9da534ff7ab56131de2c06046": {
     "views": [
      {
       "cell_index": 22
      }
     ]
    },
    "77f7443f465e418282e085f766c576dd": {
     "views": [
      {
       "cell_index": 22
      }
     ]
    },
    "7b6fa6c24c43484e8360a98665c56d3e": {
     "views": [
      {
       "cell_index": 22
      }
     ]
    },
    "7d1953262a7d49ca82b305607ed82946": {
     "views": [
      {
       "cell_index": 22
      }
     ]
    },
    "82ae02d8b6474f13971b2bdbf24fe5f7": {
     "views": [
      {
       "cell_index": 22
      }
     ]
    },
    "8e0ea01c7ace4b76bfd53992f631c9bd": {
     "views": [
      {
       "cell_index": 22
      }
     ]
    },
    "8ebea6391fb54eebb22568a540c84e23": {
     "views": [
      {
       "cell_index": 22
      }
     ]
    },
    "91607d91e81644a2ad4f57b628987cae": {
     "views": [
      {
       "cell_index": 22
      }
     ]
    },
    "95189823f0824ca6ab49e2bddfbfcc44": {
     "views": [
      {
       "cell_index": 22
      }
     ]
    },
    "a734d991cd4b47e4b3b7d95083a90141": {
     "views": [
      {
       "cell_index": 22
      }
     ]
    },
    "aaaeef8c90cc43b39e5d891f64883cad": {
     "views": [
      {
       "cell_index": 22
      }
     ]
    },
    "abe42b987233463cb18ec04c971d09a9": {
     "views": [
      {
       "cell_index": 22
      }
     ]
    },
    "bdac388502b14ef7b6f4e9ea2fd1f999": {
     "views": [
      {
       "cell_index": 22
      }
     ]
    },
    "c09ea9db1135440eae8a8e64433ade37": {
     "views": [
      {
       "cell_index": 22
      }
     ]
    },
    "c1ffe089bf0f4253bd2f0d070d2e94cd": {
     "views": [
      {
       "cell_index": 22
      }
     ]
    },
    "c629cb387c8d444c878d9daaea4a24f4": {
     "views": [
      {
       "cell_index": 22
      }
     ]
    },
    "c6cc97152f804bb3b56407356e50b8a4": {
     "views": [
      {
       "cell_index": 22
      }
     ]
    },
    "ca5d6b10f8d44a978700022385856dc6": {
     "views": [
      {
       "cell_index": 22
      }
     ]
    },
    "d59cad25a3d045048ba00074b4496cf3": {
     "views": [
      {
       "cell_index": 22
      }
     ]
    },
    "d6d775778cf94f4582a238742d7b8edd": {
     "views": [
      {
       "cell_index": 22
      }
     ]
    },
    "e14f0d011a994f0cb62dbfc49da3d81b": {
     "views": [
      {
       "cell_index": 22
      }
     ]
    },
    "ebcef9551b564f6099c5a5f44de8bc72": {
     "views": [
      {
       "cell_index": 22
      }
     ]
    },
    "ff9ca1f114614598b2a87237a90deb18": {
     "views": [
      {
       "cell_index": 22
      }
     ]
    }
   },
   "version": "1.2.0"
  }
 },
 "nbformat": 4,
 "nbformat_minor": 1
}
