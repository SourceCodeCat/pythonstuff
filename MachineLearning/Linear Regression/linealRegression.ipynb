{
 "cells": [
  {
   "cell_type": "code",
   "execution_count": 1,
   "metadata": {
    "collapsed": true
   },
   "outputs": [],
   "source": [
    "from sklearn import linear_model, datasets\n",
    "import matplotlib.pyplot as plt\n",
    "import numpy as np\n",
    "%matplotlib inline"
   ]
  },
  {
   "cell_type": "code",
   "execution_count": 2,
   "metadata": {
    "collapsed": true
   },
   "outputs": [],
   "source": [
    "#Generates Random Data to test the linear regression\n",
    "X,y,W = datasets.make_regression(n_samples=100,n_features=1,n_informative=1,noise=10,coef=True)\n"
   ]
  },
  {
   "cell_type": "code",
   "execution_count": 3,
   "metadata": {},
   "outputs": [
    {
     "name": "stdout",
     "output_type": "stream",
     "text": [
      "dimmensions:2\n",
      "shape:(100, 1)\n",
      "W =55.2544889959\n"
     ]
    }
   ],
   "source": [
    "#we can check the  number fo dimensions and the shape of the numpy arrays\n",
    "print \"dimmensions:\"+str(X.ndim)\n",
    "print \"shape:\"+str(X.shape)\n",
    "print \"W =%s\" % W"
   ]
  },
  {
   "cell_type": "code",
   "execution_count": 4,
   "metadata": {},
   "outputs": [
    {
     "data": {
      "image/png": "[encoded data removed]",
      "text/plain": [
       "<matplotlib.figure.Figure at 0x7fd8d401ea10>"
      ]
     },
     "metadata": {},
     "output_type": "display_data"
    }
   ],
   "source": [
    "# the make_regression function from sklearn  returned in W, the theta params of the linear regression so we can the\n",
    "# multiply the W vector (array) with the X matrix to obtain the values to create a trend line on the data (regression)\n",
    "z = X*W\n",
    "# we can visualize what the randomly generated dataset looks-like\n",
    "plt.plot(X,y,'o')\n",
    "plt.plot(X,z)\n",
    "plt.xlabel(\"x\")\n",
    "plt.ylabel(\"y\")\n",
    "plt.show()"
   ]
  },
  {
   "cell_type": "code",
   "execution_count": 14,
   "metadata": {},
   "outputs": [
    {
     "data": {
      "text/plain": [
       "(100,)"
      ]
     },
     "execution_count": 14,
     "metadata": {},
     "output_type": "execute_result"
    }
   ],
   "source": [
    "W_ = np.zeros(X.shape[1])\n"
   ]
  },
  {
   "cell_type": "code",
   "execution_count": null,
   "metadata": {
    "collapsed": true
   },
   "outputs": [],
   "source": [
    "# compute the cost\n",
    "def cost(X,y,theta):\n",
    "    y_hat_ = X.dot(theta)\n",
    "    sqDiff = (y.flatten()-y_hat_)**2\n",
    "    s = sqDiff.sum() * (0.5)\n",
    "    return s\n",
    "\n",
    "def linearRegWithStep(X,y,W,alpha,num_iters):\n",
    "    \n",
    "    for i in range(num_iters):\n",
    "        y_hat = X.dot(W)\n",
    "        diff = y_hat.flatten()-y\n",
    "        \n",
    "        for w_i in range(W.size):\n",
    "            errors_x_i = diff * X[:,w_i].flatten()\n",
    "            W[w_i][0] = W[w_i][0]-alpha * errors_x_i.sum()\n",
    "    \n",
    "    \n",
    "        #S = cost(X,y,W)\n",
    "        #print \"iteration \", i, \"S(W)=\",S\n",
    "\n",
    "#        if i%10 == 0:\n",
    "#            plt.plot(X,y,'o')\n",
    "#            plt.plot(X,W*X,'r')\n",
    "#            plt.title(\"Iteration i = \"+str(i))\n",
    "#            plt.show()\n",
    "        \n",
    "    return W\n",
    "            \n",
    "            \n",
    "        \n",
    "    \n",
    "    \n",
    "    "
   ]
  },
  {
   "cell_type": "code",
   "execution_count": null,
   "metadata": {
    "collapsed": true,
    "scrolled": false
   },
   "outputs": [],
   "source": [
    "w = np.zeros((X.shape[1],1))\n",
    "alpha = 0.01\n",
    "num_iters = 1500\n",
    "\n",
    "w = linearRegWithStep(X,y,w,alpha,num_iters)\n",
    "print w\n",
    "\n",
    "plt.plot(X,y,'o')\n",
    "plt.plot(X,X*w,'r')\n",
    "plt.plot(X,X*W,'g')\n",
    "plt.show()"
   ]
  },
  {
   "cell_type": "code",
   "execution_count": 161,
   "metadata": {
    "collapsed": true
   },
   "outputs": [],
   "source": [
    "def costFunction(X,y,theta):\n",
    "    y_hat_ = X.dot(theta)\n",
    "    sqDiff = (y.flatten()-y_hat_)**2\n",
    "    s = sqDiff.sum() * (0.5)\n",
    "    return s\n",
    "\n",
    "def gradient_descent(X, y, beta, alpha, iterations):\n",
    "    \"\"\"\n",
    "    gradient_descent() performs gradient descent to learn beta by\n",
    "    taking num_iters gradient steps with learning rate alpha\n",
    "    \"\"\"\n",
    "    cost_history = []\n",
    "\n",
    "    for iteration in range(iterations):\n",
    "        hypothesis = X.dot(beta)\n",
    "        loss = hypothesis-y\n",
    "        # the transpose in this case is the same as doing flatten\n",
    "        # wha we want to do is to make the shape of X and gradient\n",
    "        # the same so we can multiply them and sum them\n",
    "        gradient = X.T.dot(loss)/len(y)\n",
    "        beta = beta - alpha*gradient\n",
    "        cost = costFunction(X, y, beta)\n",
    "        cost_history.append(cost)\n",
    "        \n",
    "\n",
    "#        if iteration%10 == 0:\n",
    "#            plt.plot(X,y,'o')\n",
    "#            plt.plot(X,X*beta,'r')\n",
    "#            plt.plot(X,X*W,'g')\n",
    "#            plt.show()            \n",
    "\n",
    "    return beta, cost_history\n",
    "\n",
    "\n",
    "\n",
    "def gradient_descent_converg(X, y, beta, alpha, iterations):\n",
    "    \"\"\"\n",
    "    gradient_descent() performs gradient descent to learn beta by\n",
    "    taking num_iters gradient steps with learning rate alpha\n",
    "    \"\"\"\n",
    "    cost_history = []\n",
    "    error_history = []\n",
    "    go = True\n",
    "    iteration = 0\n",
    "    \n",
    "    while go:\n",
    "    #for iteration in range(iterations):\n",
    "        hypothesis = X.dot(beta)\n",
    "        loss = hypothesis-y\n",
    "        # the transpose in this case is the same as doing flatten\n",
    "        # wha we want to do is to make the shape of X and gradient\n",
    "        # the same so we can multiply them and sum them        \n",
    "        gradient = X.T.dot(loss)/len(y)\n",
    "        beta = beta - alpha*gradient\n",
    "        cost = costFunction(X, y, beta)\n",
    "        cost_history.append(cost)\n",
    "        \n",
    "        if iteration > 0:\n",
    "            error_history.append(abs(error_history[iteration-1]-cost))\n",
    "            # check if hte error is small enough or we exceeded the  iteration limit\n",
    "            if (error_history[-1] < 0.001) or (iteration > iterations):                \n",
    "                go = False\n",
    "        else:\n",
    "            error_history.append(cost)\n",
    "            \n",
    "        iteration+=1\n",
    "    return beta, cost_history, error_history, iteration\n"
   ]
  },
  {
   "cell_type": "code",
   "execution_count": 162,
   "metadata": {
    "collapsed": true
   },
   "outputs": [],
   "source": [
    "w = np.array([0])\n",
    "a = 0.01\n",
    "iters = 1500\n",
    "\n",
    "#(b, c) = gradient_descent(X, y, w, a, iters)\n",
    "#----------------------------------------------------\n",
    "#b <--has the weights\n",
    "#c <-- list with the cost history\n",
    "#d <-- list with the error history\n",
    "#e <-- iterations did until convergence\n",
    "#----------------------------------------------------\n",
    "(b,c,d,e) = gradient_descent_converg(X, y, w, a, iters)\n",
    "#----------------------------------------------------\n",
    "\n",
    "#plt.plot(X,y,'o')\n",
    "#plt.plot(X,X*b,'r')\n",
    "#plt.plot(X,X*W,'g')\n",
    "#plt.show()"
   ]
  },
  {
   "cell_type": "code",
   "execution_count": null,
   "metadata": {
    "collapsed": true
   },
   "outputs": [],
   "source": []
  },
  {
   "cell_type": "code",
   "execution_count": 165,
   "metadata": {},
   "outputs": [
    {
     "name": "stdout",
     "output_type": "stream",
     "text": [
      "[ 8.87124997]\n",
      "1.79298185685e-05\n",
      "96\n"
     ]
    }
   ],
   "source": [
    "print b\n",
    "print d[-1]\n",
    "print e"
   ]
  },
  {
   "cell_type": "code",
   "execution_count": 168,
   "metadata": {},
   "outputs": [
    {
     "data": {
      "image/png": "[encoded data removed]",
      "text/plain": [
       "<matplotlib.figure.Figure at 0x7fd28a652bd0>"
      ]
     },
     "metadata": {},
     "output_type": "display_data"
    }
   ],
   "source": [
    "plt.plot(c)\n",
    "plt.title('Cost Reduction per Iteration')\n",
    "plt.show()"
   ]
  },
  {
   "cell_type": "code",
   "execution_count": null,
   "metadata": {
    "collapsed": true
   },
   "outputs": [],
   "source": []
  }
 ],
 "metadata": {
  "kernelspec": {
   "display_name": "Python 3",
   "language": "python",
   "name": "python3"
  },
  "language_info": {
   "codemirror_mode": {
    "name": "ipython",
    "version": 3
   },
   "file_extension": ".py",
   "mimetype": "text/x-python",
   "name": "python",
   "nbconvert_exporter": "python",
   "pygments_lexer": "ipython3",
   "version": "3.6.7"
  },
  "toc": {
   "base_numbering": 1,
   "nav_menu": {},
   "number_sections": true,
   "sideBar": true,
   "skip_h1_title": false,
   "title_cell": "Table of Contents",
   "title_sidebar": "Contents",
   "toc_cell": false,
   "toc_position": {},
   "toc_section_display": true,
   "toc_window_display": false
  }
 },
 "nbformat": 4,
 "nbformat_minor": 2
}
